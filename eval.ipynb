{
 "cells": [
  {
   "cell_type": "code",
   "execution_count": 1,
   "metadata": {},
   "outputs": [],
   "source": [
    "import mindspore\n",
    "import numpy as np\n",
    "import matplotlib.pyplot as plt\n",
    "from LeNet5 import LeNet5\n",
    "from PIL import Image\n",
    "from train import load_params\n",
    "\n",
    "%matplotlib inline"
   ]
  },
  {
   "cell_type": "code",
   "execution_count": 4,
   "metadata": {},
   "outputs": [
    {
     "name": "stdout",
     "output_type": "stream",
     "text": [
      "(28, 28)\n"
     ]
    },
    {
     "data": {
      "image/png": "[encoded data removed]",
      "text/plain": [
       "<Figure size 640x480 with 1 Axes>"
      ]
     },
     "metadata": {},
     "output_type": "display_data"
    }
   ],
   "source": [
    "eval_img = Image.open('eval/five_2.png').convert('L')\n",
    "eval_img = eval_img.resize((28, 28))\n",
    "img_array = np.asarray(eval_img, dtype=np.float64) / 255\n",
    "print(img_array.shape)\n",
    "plt.imshow(img_array, cmap='gray')\n",
    "plt.show()"
   ]
  },
  {
   "cell_type": "code",
   "execution_count": 5,
   "metadata": {},
   "outputs": [
    {
     "name": "stdout",
     "output_type": "stream",
     "text": [
      "loading [checkpoints/LeNet5onMnist_02/20.ckpt] to model...\n",
      "resutl: 5\n"
     ]
    }
   ],
   "source": [
    "img_tensor = mindspore.Tensor(img_array, dtype=mindspore.float32)\n",
    "img_tensor = img_tensor.reshape((1, 1, img_tensor.shape[0], img_tensor.shape[1]))\n",
    "model = LeNet5(10, 1)\n",
    "load_params('checkpoints/LeNet5onMnist_02/', model, 'ckpt')\n",
    "logits = model(img_tensor)\n",
    "result = logits.argmax(1).item()\n",
    "print(f'resutl: {result}')"
   ]
  },
  {
   "cell_type": "code",
   "execution_count": null,
   "metadata": {},
   "outputs": [],
   "source": []
  }
 ],
 "metadata": {
  "kernelspec": {
   "display_name": "Python 3.9.15 ('mindspore')",
   "language": "python",
   "name": "python3"
  },
  "language_info": {
   "codemirror_mode": {
    "name": "ipython",
    "version": 3
   },
   "file_extension": ".py",
   "mimetype": "text/x-python",
   "name": "python",
   "nbconvert_exporter": "python",
   "pygments_lexer": "ipython3",
   "version": "3.9.15"
  },
  "orig_nbformat": 4,
  "vscode": {
   "interpreter": {
    "hash": "6845c4cf6128685c938431b1964221a949df7fd92f9a586f1514406c4c2bc237"
   }
  }
 },
 "nbformat": 4,
 "nbformat_minor": 2
}
