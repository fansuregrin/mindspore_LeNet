{
 "cells": [
  {
   "cell_type": "code",
   "execution_count": 1,
   "metadata": {},
   "outputs": [],
   "source": [
    "import mindspore\n",
    "import numpy as np\n",
    "import matplotlib.pyplot as plt\n",
    "from LeNet5 import LeNet5\n",
    "from PIL import Image\n",
    "from train import load_params\n",
    "\n",
    "%matplotlib inline"
   ]
  },
  {
   "cell_type": "code",
   "execution_count": 11,
   "metadata": {},
   "outputs": [
    {
     "name": "stdout",
     "output_type": "stream",
     "text": [
      "(28, 28, 3)\n"
     ]
    },
    {
     "data": {
      "image/png": "[encoded data removed]",
      "text/plain": [
       "<Figure size 640x480 with 1 Axes>"
      ]
     },
     "metadata": {},
     "output_type": "display_data"
    }
   ],
   "source": [
    "eval_img = Image.open('eval/six.jpg').convert('L')\n",
    "eval_img = eval_img.resize((28, 28))\n",
    "img_array = np.asarray(eval_img, dtype=np.float64) / 255\n",
    "print(img_array.shape)\n",
    "plt.imshow(img_array, cmap='gray')\n",
    "plt.show()"
   ]
  },
  {
   "cell_type": "code",
   "execution_count": 12,
   "metadata": {},
   "outputs": [
    {
     "name": "stdout",
     "output_type": "stream",
     "text": [
      "\n"
     ]
    },
    {
     "name": "stderr",
     "output_type": "stream",
     "text": [
      "[ERROR] PYNATIVE(1193821,7f43349be280,python):2022-11-28-15:28:14.195.964 [mindspore/ccsrc/pipeline/pynative/pynative_execute.cc:50] PyNativeExecutorTry] \n"
     ]
    },
    {
     "ename": "ValueError",
     "evalue": "For 'Reshape', the product of the 'input_x' shape should be equal to product of 'input_shape', but got product of the shape of 'input_x': 2352, product of 'input_shape': 784.",
     "output_type": "error",
     "traceback": [
      "\u001b[0;31m---------------------------------------------------------------------------\u001b[0m",
      "\u001b[0;31mValueError\u001b[0m                                Traceback (most recent call last)",
      "Cell \u001b[0;32mIn [12], line 2\u001b[0m\n\u001b[1;32m      1\u001b[0m img_tensor \u001b[39m=\u001b[39m mindspore\u001b[39m.\u001b[39mTensor(img_array, dtype\u001b[39m=\u001b[39mmindspore\u001b[39m.\u001b[39mfloat32)\n\u001b[0;32m----> 2\u001b[0m img_tensor \u001b[39m=\u001b[39m img_tensor\u001b[39m.\u001b[39;49mreshape((\u001b[39m1\u001b[39;49m, \u001b[39m1\u001b[39;49m, img_tensor\u001b[39m.\u001b[39;49mshape[\u001b[39m0\u001b[39;49m], img_tensor\u001b[39m.\u001b[39;49mshape[\u001b[39m1\u001b[39;49m]))\n\u001b[1;32m      3\u001b[0m model \u001b[39m=\u001b[39m LeNet5(\u001b[39m10\u001b[39m, \u001b[39m1\u001b[39m)\n\u001b[1;32m      4\u001b[0m load_params(\u001b[39m'\u001b[39m\u001b[39mcheckpoints/LeNet5onMnist_02/\u001b[39m\u001b[39m'\u001b[39m, model, \u001b[39m'\u001b[39m\u001b[39mckpt\u001b[39m\u001b[39m'\u001b[39m)\n",
      "File \u001b[0;32m~/anaconda3/envs/mindspore/lib/python3.9/site-packages/mindspore/common/tensor.py:2368\u001b[0m, in \u001b[0;36mTensor.reshape\u001b[0;34m(self, *shape)\u001b[0m\n\u001b[1;32m   2366\u001b[0m \u001b[39mself\u001b[39m\u001b[39m.\u001b[39m_init_check()\n\u001b[1;32m   2367\u001b[0m new_shape \u001b[39m=\u001b[39m validator\u001b[39m.\u001b[39mcheck_reshape_shp(shape)\n\u001b[0;32m-> 2368\u001b[0m \u001b[39mreturn\u001b[39;00m tensor_operator_registry\u001b[39m.\u001b[39;49mget(\u001b[39m'\u001b[39;49m\u001b[39mreshape\u001b[39;49m\u001b[39m'\u001b[39;49m)()(\u001b[39mself\u001b[39;49m, new_shape)\n",
      "File \u001b[0;32m~/anaconda3/envs/mindspore/lib/python3.9/site-packages/mindspore/ops/primitive.py:294\u001b[0m, in \u001b[0;36mPrimitive.__call__\u001b[0;34m(self, *args)\u001b[0m\n\u001b[1;32m    292\u001b[0m \u001b[39mif\u001b[39;00m should_elim:\n\u001b[1;32m    293\u001b[0m     \u001b[39mreturn\u001b[39;00m output\n\u001b[0;32m--> 294\u001b[0m \u001b[39mreturn\u001b[39;00m _run_op(\u001b[39mself\u001b[39;49m, \u001b[39mself\u001b[39;49m\u001b[39m.\u001b[39;49mname, args)\n",
      "File \u001b[0;32m~/anaconda3/envs/mindspore/lib/python3.9/site-packages/mindspore/common/api.py:98\u001b[0m, in \u001b[0;36m_wrap_func.<locals>.wrapper\u001b[0;34m(*arg, **kwargs)\u001b[0m\n\u001b[1;32m     96\u001b[0m \u001b[39m@wraps\u001b[39m(fn)\n\u001b[1;32m     97\u001b[0m \u001b[39mdef\u001b[39;00m \u001b[39mwrapper\u001b[39m(\u001b[39m*\u001b[39marg, \u001b[39m*\u001b[39m\u001b[39m*\u001b[39mkwargs):\n\u001b[0;32m---> 98\u001b[0m     results \u001b[39m=\u001b[39m fn(\u001b[39m*\u001b[39;49marg, \u001b[39m*\u001b[39;49m\u001b[39m*\u001b[39;49mkwargs)\n\u001b[1;32m     99\u001b[0m     \u001b[39mreturn\u001b[39;00m _convert_python_data(results)\n",
      "File \u001b[0;32m~/anaconda3/envs/mindspore/lib/python3.9/site-packages/mindspore/ops/primitive.py:730\u001b[0m, in \u001b[0;36m_run_op\u001b[0;34m(obj, op_name, args)\u001b[0m\n\u001b[1;32m    727\u001b[0m \u001b[39m@_wrap_func\u001b[39m\n\u001b[1;32m    728\u001b[0m \u001b[39mdef\u001b[39;00m \u001b[39m_run_op\u001b[39m(obj, op_name, args):\n\u001b[1;32m    729\u001b[0m     \u001b[39m\"\"\"Single op execution function supported by ge in PyNative mode.\"\"\"\u001b[39;00m\n\u001b[0;32m--> 730\u001b[0m     output \u001b[39m=\u001b[39m real_run_op(obj, op_name, args)\n\u001b[1;32m    731\u001b[0m     \u001b[39mreturn\u001b[39;00m output\n",
      "File \u001b[0;32m~/anaconda3/envs/mindspore/lib/python3.9/site-packages/mindspore/ops/operations/array_ops.py:857\u001b[0m, in \u001b[0;36mReshape.__infer__\u001b[0;34m(self, x, shape)\u001b[0m\n\u001b[1;32m    852\u001b[0m out \u001b[39m=\u001b[39m {\u001b[39m'\u001b[39m\u001b[39mshape\u001b[39m\u001b[39m'\u001b[39m: shape_v,\n\u001b[1;32m    853\u001b[0m        \u001b[39m'\u001b[39m\u001b[39mdtype\u001b[39m\u001b[39m'\u001b[39m: x[\u001b[39m'\u001b[39m\u001b[39mdtype\u001b[39m\u001b[39m'\u001b[39m],\n\u001b[1;32m    854\u001b[0m        \u001b[39m'\u001b[39m\u001b[39mvalue\u001b[39m\u001b[39m'\u001b[39m: \u001b[39mNone\u001b[39;00m}\n\u001b[1;32m    856\u001b[0m \u001b[39mif\u001b[39;00m \u001b[39mnot\u001b[39;00m is_shape_unknown(x[\u001b[39m'\u001b[39m\u001b[39mshape\u001b[39m\u001b[39m'\u001b[39m]):\n\u001b[0;32m--> 857\u001b[0m     out \u001b[39m=\u001b[39m \u001b[39mself\u001b[39;49m\u001b[39m.\u001b[39;49m_update_shape_and_value(out, x, shape_v, dim_prod, neg_index)\n\u001b[1;32m    858\u001b[0m \u001b[39mreturn\u001b[39;00m out\n",
      "File \u001b[0;32m~/anaconda3/envs/mindspore/lib/python3.9/site-packages/mindspore/ops/operations/array_ops.py:811\u001b[0m, in \u001b[0;36mReshape._update_shape_and_value\u001b[0;34m(self, out, x, shape_v, dim_prod, neg_index)\u001b[0m\n\u001b[1;32m    809\u001b[0m     dim_prod \u001b[39m*\u001b[39m\u001b[39m=\u001b[39m shape_v[neg_index]\n\u001b[1;32m    810\u001b[0m \u001b[39mif\u001b[39;00m dim_prod \u001b[39m!=\u001b[39m arr_prod:\n\u001b[0;32m--> 811\u001b[0m     \u001b[39mraise\u001b[39;00m \u001b[39mValueError\u001b[39;00m(\u001b[39mf\u001b[39m\u001b[39m\"\u001b[39m\u001b[39mFor \u001b[39m\u001b[39m'\u001b[39m\u001b[39m{\u001b[39;00m\u001b[39mself\u001b[39m\u001b[39m.\u001b[39mname\u001b[39m}\u001b[39;00m\u001b[39m'\u001b[39m\u001b[39m, the product of the \u001b[39m\u001b[39m'\u001b[39m\u001b[39minput_x\u001b[39m\u001b[39m'\u001b[39m\u001b[39m shape \u001b[39m\u001b[39m\"\u001b[39m\n\u001b[1;32m    812\u001b[0m                      \u001b[39mf\u001b[39m\u001b[39m\"\u001b[39m\u001b[39mshould be equal to product of \u001b[39m\u001b[39m'\u001b[39m\u001b[39minput_shape\u001b[39m\u001b[39m'\u001b[39m\u001b[39m, but got product of the\u001b[39m\u001b[39m\"\u001b[39m\n\u001b[1;32m    813\u001b[0m                      \u001b[39mf\u001b[39m\u001b[39m\"\u001b[39m\u001b[39m shape of \u001b[39m\u001b[39m'\u001b[39m\u001b[39minput_x\u001b[39m\u001b[39m'\u001b[39m\u001b[39m: \u001b[39m\u001b[39m{\u001b[39;00marr_prod\u001b[39m}\u001b[39;00m\u001b[39m, product of \u001b[39m\u001b[39m'\u001b[39m\u001b[39minput_shape\u001b[39m\u001b[39m'\u001b[39m\u001b[39m: \u001b[39m\u001b[39m{\u001b[39;00mdim_prod\u001b[39m}\u001b[39;00m\u001b[39m.\u001b[39m\u001b[39m\"\u001b[39m)\n\u001b[1;32m    814\u001b[0m out[\u001b[39m'\u001b[39m\u001b[39mshape\u001b[39m\u001b[39m'\u001b[39m] \u001b[39m=\u001b[39m \u001b[39mtuple\u001b[39m(shape_v)\n\u001b[1;32m    816\u001b[0m \u001b[39mif\u001b[39;00m x[\u001b[39m'\u001b[39m\u001b[39mvalue\u001b[39m\u001b[39m'\u001b[39m] \u001b[39mis\u001b[39;00m \u001b[39mnot\u001b[39;00m \u001b[39mNone\u001b[39;00m:\n",
      "\u001b[0;31mValueError\u001b[0m: For 'Reshape', the product of the 'input_x' shape should be equal to product of 'input_shape', but got product of the shape of 'input_x': 2352, product of 'input_shape': 784."
     ]
    }
   ],
   "source": [
    "img_tensor = mindspore.Tensor(img_array, dtype=mindspore.float32)\n",
    "img_tensor = img_tensor.reshape((1, 1, img_tensor.shape[0], img_tensor.shape[1]))\n",
    "model = LeNet5(10, 1)\n",
    "load_params('checkpoints/LeNet5onMnist_02/', model, 'ckpt')\n",
    "logits = model(img_tensor)\n",
    "result = logits.argmax(1).item()\n",
    "print(f'resutl: {result}')"
   ]
  },
  {
   "cell_type": "code",
   "execution_count": null,
   "metadata": {},
   "outputs": [],
   "source": []
  }
 ],
 "metadata": {
  "kernelspec": {
   "display_name": "Python 3.9.15 ('mindspore')",
   "language": "python",
   "name": "python3"
  },
  "language_info": {
   "codemirror_mode": {
    "name": "ipython",
    "version": 3
   },
   "file_extension": ".py",
   "mimetype": "text/x-python",
   "name": "python",
   "nbconvert_exporter": "python",
   "pygments_lexer": "ipython3",
   "version": "3.9.15"
  },
  "orig_nbformat": 4,
  "vscode": {
   "interpreter": {
    "hash": "6845c4cf6128685c938431b1964221a949df7fd92f9a586f1514406c4c2bc237"
   }
  }
 },
 "nbformat": 4,
 "nbformat_minor": 2
}
